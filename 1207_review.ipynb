{
 "cells": [
  {
   "cell_type": "markdown",
   "id": "f024ec87",
   "metadata": {},
   "source": [
    "## 배열의 연결\n",
    "* 행의 수나 열의 수가 같은 두 개 이상의 배열 합침(결함) -> 더큰 배열-> shape가변함 -> dtype 같음\n",
    "* concatenate: 리스트의 합, 곱 연산 -> 합치거나 복사/ 배열? : 벡터화 연산-> + * 변형 x\n",
    "\n"
   ]
  },
  {
   "cell_type": "code",
   "execution_count": 1,
   "id": "b7f42a10",
   "metadata": {},
   "outputs": [],
   "source": [
    "import numpy as np"
   ]
  },
  {
   "cell_type": "code",
   "execution_count": 2,
   "id": "f9cbbd4e",
   "metadata": {},
   "outputs": [],
   "source": [
    "arr1 = np.arange(1,4)\n",
    "arr2 = np.arange(4,7)\n",
    "# arr1 : np.array([[1, 2], [3, 4]])\n",
    "# arr2 : np.array([[5, 6], [7, 8]])"
   ]
  },
  {
   "cell_type": "code",
   "execution_count": 3,
   "id": "dd36d159",
   "metadata": {},
   "outputs": [
    {
     "data": {
      "text/plain": [
       "array([1, 2, 3, 4, 5, 6])"
      ]
     },
     "execution_count": 3,
     "metadata": {},
     "output_type": "execute_result"
    }
   ],
   "source": [
    "np.concatenate([arr1, arr2])\n",
    "# 1차원 배열 : 행이 하나인 2차원 배열\n",
    "# 2차원 배열 : 행이나 열이 같아야 한다"
   ]
  },
  {
   "cell_type": "code",
   "execution_count": 22,
   "id": "55f6f789",
   "metadata": {},
   "outputs": [
    {
     "data": {
      "text/plain": [
       "array([1, 2, 3, 4, 5, 6])"
      ]
     },
     "execution_count": 22,
     "metadata": {},
     "output_type": "execute_result"
    }
   ],
   "source": [
    "a= np.concatenate([arr1, arr2], axis=0) # axis=0\n",
    "a\n",
    "# 행을 기준으로 한다\n",
    "# -> 가로 방향으로 붙여준다\n",
    "# -> 열의 갯수가 늘어난다\n"
   ]
  },
  {
   "cell_type": "code",
   "execution_count": 41,
   "id": "a70cacd3",
   "metadata": {},
   "outputs": [
    {
     "ename": "AxisError",
     "evalue": "axis 1 is out of bounds for array of dimension 1",
     "output_type": "error",
     "traceback": [
      "\u001b[1;31m---------------------------------------------------------------------------\u001b[0m",
      "\u001b[1;31mAxisError\u001b[0m                                 Traceback (most recent call last)",
      "\u001b[1;32m~\\AppData\\Local\\Temp\\ipykernel_15908\\3782489971.py\u001b[0m in \u001b[0;36m<module>\u001b[1;34m\u001b[0m\n\u001b[1;32m----> 1\u001b[1;33m \u001b[0mnp\u001b[0m\u001b[1;33m.\u001b[0m\u001b[0mconcatenate\u001b[0m\u001b[1;33m(\u001b[0m\u001b[1;33m[\u001b[0m\u001b[0marr1\u001b[0m\u001b[1;33m,\u001b[0m \u001b[0marr2\u001b[0m\u001b[1;33m]\u001b[0m\u001b[1;33m,\u001b[0m \u001b[0maxis\u001b[0m\u001b[1;33m=\u001b[0m\u001b[1;36m1\u001b[0m\u001b[1;33m)\u001b[0m\u001b[1;33m\u001b[0m\u001b[1;33m\u001b[0m\u001b[0m\n\u001b[0m\u001b[0;32m      2\u001b[0m \u001b[1;31m# 열을 기준으로 한다\u001b[0m\u001b[1;33m\u001b[0m\u001b[1;33m\u001b[0m\u001b[0m\n\u001b[0;32m      3\u001b[0m \u001b[1;31m# -> 세로 방향으로 붙여준다\u001b[0m\u001b[1;33m\u001b[0m\u001b[1;33m\u001b[0m\u001b[0m\n\u001b[0;32m      4\u001b[0m \u001b[1;31m# -> 행의 갯수가 늘어난다\u001b[0m\u001b[1;33m\u001b[0m\u001b[1;33m\u001b[0m\u001b[0m\n",
      "\u001b[1;32m<__array_function__ internals>\u001b[0m in \u001b[0;36mconcatenate\u001b[1;34m(*args, **kwargs)\u001b[0m\n",
      "\u001b[1;31mAxisError\u001b[0m: axis 1 is out of bounds for array of dimension 1"
     ]
    }
   ],
   "source": [
    "np.concatenate([arr1, arr2], axis=1)\n",
    "# 열을 기준으로 한다\n",
    "# -> 세로 방향으로 붙여준다\n",
    "# -> 행의 갯수가 늘어난다\n",
    "'''\n",
    "array([[1, 2, 5, 6],\n",
    "       [3, 4, 7, 8]])\n",
    "'''"
   ]
  },
  {
   "cell_type": "markdown",
   "id": "6ff56e32",
   "metadata": {},
   "source": [
    "hstack vstack : 수평(horizontal), 수직(vertical)"
   ]
  },
  {
   "cell_type": "code",
   "execution_count": 27,
   "id": "a709ae12",
   "metadata": {},
   "outputs": [],
   "source": [
    "a1 = np.array([[1, 1, 1],[1., 1., 1.]]) #-> 2x3"
   ]
  },
  {
   "cell_type": "code",
   "execution_count": 29,
   "id": "3eb0b92b",
   "metadata": {},
   "outputs": [
    {
     "data": {
      "text/plain": [
       "array([[1., 1., 1., 0., 0.],\n",
       "       [1., 1., 1., 0., 0.]])"
      ]
     },
     "execution_count": 29,
     "metadata": {},
     "output_type": "execute_result"
    }
   ],
   "source": [
    "a2 = np.array([[0., 0.], [0., 0.]])# -> 2x2\n",
    "np.hstack([a1, a2])"
   ]
  },
  {
   "cell_type": "markdown",
   "id": "01348e0e",
   "metadata": {},
   "source": [
    "vstack : 열의 수가 같은 두 개 이상의 배열을 위아래로 연결 → 행의 수가 커진다"
   ]
  },
  {
   "cell_type": "code",
   "execution_count": 15,
   "id": "df7a2d81",
   "metadata": {},
   "outputs": [],
   "source": [
    "b1 = np.array([[1., 1., 1.],\n",
    "        [1., 1., 1.]]) # 2 x 3\n",
    "b2 = np.array([[0., 0., 0.],\n",
    "        [0., 0., 0.],\n",
    "        [0., 0., 0.]]) # 3 x 3"
   ]
  },
  {
   "cell_type": "code",
   "execution_count": 16,
   "id": "ed26b7c8",
   "metadata": {},
   "outputs": [
    {
     "data": {
      "text/plain": [
       "array([[1., 1., 1.],\n",
       "       [1., 1., 1.],\n",
       "       [0., 0., 0.],\n",
       "       [0., 0., 0.],\n",
       "       [0., 0., 0.]])"
      ]
     },
     "execution_count": 16,
     "metadata": {},
     "output_type": "execute_result"
    }
   ],
   "source": [
    "np.vstack([b1, b2])"
   ]
  },
  {
   "cell_type": "markdown",
   "id": "1e39f097",
   "metadata": {},
   "source": [
    "dstack : 행이나 열이 아닌 깊이(제3의 축) 방향으로 배열을 합쳐줌 → 가장 안쪽의 원소의 차원이 증가\n",
    "행, 열, 깊이배열 두 개가 겹치므로 합치고자 하는 배열들의 크기가 모두 같아야 함"
   ]
  },
  {
   "cell_type": "code",
   "execution_count": 12,
   "id": "190061ee",
   "metadata": {},
   "outputs": [],
   "source": [
    "c1 = np.ones((3,4))\n",
    "c2 = np.zeros((3,4))"
   ]
  },
  {
   "cell_type": "code",
   "execution_count": 13,
   "id": "7e47650a",
   "metadata": {},
   "outputs": [
    {
     "data": {
      "text/plain": [
       "array([[[1., 0.],\n",
       "        [1., 0.],\n",
       "        [1., 0.],\n",
       "        [1., 0.]],\n",
       "\n",
       "       [[1., 0.],\n",
       "        [1., 0.],\n",
       "        [1., 0.],\n",
       "        [1., 0.]],\n",
       "\n",
       "       [[1., 0.],\n",
       "        [1., 0.],\n",
       "        [1., 0.],\n",
       "        [1., 0.]]])"
      ]
     },
     "execution_count": 13,
     "metadata": {},
     "output_type": "execute_result"
    }
   ],
   "source": [
    "np.dstack([c1,c2])"
   ]
  },
  {
   "cell_type": "markdown",
   "id": "21a14620",
   "metadata": {},
   "source": [
    "`stack` : dstack과 달리  마지막 차원이 아니라 지정한 차원(축)으로 배열을 연결 → 배열 두 개가 겹치므로 합치고자 하는 배열들의 크기가 모두 같아야 함"
   ]
  },
  {
   "cell_type": "markdown",
   "id": "ba63943f",
   "metadata": {},
   "source": [
    "## 인덱서(indexer)\n",
    "* 소괄호(`()`)를 사용하는 게 아니라 대괄호(`[]`)를 사용해서 작동하는 특수한 메소드\n",
    "* `np.r_`: hstack과 유사\n",
    "* `np_c_`: dstack과 유사\n",
    "<br>\n",
    "* np.tile(arr, n 또는 (shape)) : 반복할 배열, 반복할 모양(횟수) → 그대로 배열을 반복해서 채워줌"
   ]
  },
  {
   "cell_type": "markdown",
   "id": "abd40810",
   "metadata": {},
   "source": [
    "## 배열의 연산\n",
    "* 브로드캐스팅\n",
    "    * Numpy에서 지원하는 기능\n",
    "    * 모양이 다른 행렬간의 연산 x -> Numpy에서는 행이나 열이 일치하거나 하면 알아서 확장시켜서 \n",
    "    처리해주는 기능(자연수 -> 1차원 배열, 2차원 배열 모양에 맞춰서 확장 -> 계산)\n",
    "    * 크기가 작은 배열을 자동으로 반복 확장하여 크기가 큰 배열에 맞춤\n",
    "* 차원 축소 연산\n",
    "    * 행렬의 하나의 행에 있는 원소들을 하나의 데이터 집합으로 보고, 각 행에 처리된 연산으로 한 차원 낮은 벡터를 구성하게 하는 연산 → 한 행을 통계 수치로 축소해줌\n",
    "    * **axis=0**인 경우에는 열 연산, axis=1인 경우는 행 연산 → 기준이 되는 열을 정해주는 게 axis고, 기준이 되는 축은 갯수의 변경\n",
    "    * axis 인수는 대부분의 차원 축소 명령에 적용할 수 있음\n",
    "    * **axis=0**인 경우에는 열 연산 → 행의 개수가 유지\n",
    "    * **axis=1**인 경우는 행 연산 → 열의 개수가 유지\n",
    "    * axis 인수는 대부분의 차원 축소 명령에 적용할 수 있음"
   ]
  },
  {
   "cell_type": "code",
   "execution_count": 31,
   "id": "c570dfc9",
   "metadata": {},
   "outputs": [
    {
     "data": {
      "text/plain": [
       "array([[1, 1, 1],\n",
       "       [2, 2, 2]])"
      ]
     },
     "execution_count": 31,
     "metadata": {},
     "output_type": "execute_result"
    }
   ],
   "source": [
    "y = np.array([[1,1,1],[2,2,2]])\n",
    "y"
   ]
  },
  {
   "cell_type": "code",
   "execution_count": 32,
   "id": "18d8f787",
   "metadata": {},
   "outputs": [
    {
     "data": {
      "text/plain": [
       "array([3, 3, 3])"
      ]
     },
     "execution_count": 32,
     "metadata": {},
     "output_type": "execute_result"
    }
   ],
   "source": [
    "y.sum(axis=0)"
   ]
  },
  {
   "cell_type": "code",
   "execution_count": 33,
   "id": "9d6cc475",
   "metadata": {},
   "outputs": [
    {
     "data": {
      "text/plain": [
       "array([3, 6])"
      ]
     },
     "execution_count": 33,
     "metadata": {},
     "output_type": "execute_result"
    }
   ],
   "source": [
    "y.sum(axis=1)"
   ]
  },
  {
   "cell_type": "markdown",
   "id": "b5e1e864",
   "metadata": {},
   "source": [
    "## 정렬\n",
    "* `np.sort` : 배열 안의 원소를 크기에 따라 정렬하여 새로운 배열 생성\n",
    "* 2차원 이상인 경우 -> 행이나 열을 따로따로 정렬\n",
    "    - 어느 차원으로 계산을 할지 axis 인수를 사용해서 지시\n",
    "    - **axis=0**인 경우에는 열 연산 → 행의 개수가 유지\n",
    "    - **axis=1**인 경우는 행 연산 → 열의 개수가 유지\n",
    "    - axis 인수는 대부분의 차원 축소 명령에 적용할 수 있음"
   ]
  },
  {
   "cell_type": "code",
   "execution_count": 38,
   "id": "0bc188ef",
   "metadata": {},
   "outputs": [],
   "source": [
    "a = np.arange(1,13).reshape(4,3)"
   ]
  },
  {
   "cell_type": "code",
   "execution_count": 39,
   "id": "6911f8ab",
   "metadata": {},
   "outputs": [
    {
     "data": {
      "text/plain": [
       "array([[ 1,  2,  3],\n",
       "       [ 4,  5,  6],\n",
       "       [ 7,  8,  9],\n",
       "       [10, 11, 12]])"
      ]
     },
     "execution_count": 39,
     "metadata": {},
     "output_type": "execute_result"
    }
   ],
   "source": [
    "np.sort(a,axis=0)"
   ]
  },
  {
   "cell_type": "code",
   "execution_count": 40,
   "id": "2270333e",
   "metadata": {},
   "outputs": [
    {
     "data": {
      "text/plain": [
       "array([[ 1,  2,  3],\n",
       "       [ 4,  5,  6],\n",
       "       [ 7,  8,  9],\n",
       "       [10, 11, 12]])"
      ]
     },
     "execution_count": 40,
     "metadata": {},
     "output_type": "execute_result"
    }
   ],
   "source": [
    "np.sort(a,axis=1)"
   ]
  },
  {
   "cell_type": "markdown",
   "id": "8e6dbc2a",
   "metadata": {},
   "source": [
    "* `arr.sort` : in-place 메소드 → 원본에게 영향을 줌 (arr.copy) → np.sort를 쓰는 걸 추천\n",
    "*`np.argsort` : 정렬된 값 → 정렬 했을 때의 인덱스들 \n",
    "    1. 정수 배열 인덱스\n",
    "    2. 행을 기준으로 정렬 시키고 싶을 때 arr[:,np.argsort(arr[1])] → 2번째 행의 크기에 따라서 나머지 행들까지 정렬"
   ]
  },
  {
   "cell_type": "markdown",
   "id": "77a2a820",
   "metadata": {},
   "source": [
    "## 기술 통계 (descriptive statstics)\n",
    "* 데이터의 특징을 나타내기 위해서 통계적인 값들을 사용하는 것\n",
    "* 데이터 집합에 대해 통계를 계산\n",
    "* 데이터 개수 : `len(x)`\n",
    "* 평균 : `np.mean(x)`\n",
    "* 분산 : `np.var(arr)`\n",
    "* 최댓값, 최솟값 : `np.max(arr)` `np.min(arr)`\n",
    "* 중앙값 : `np.median(arr)` -> 데이터의 수가 짝수면, 중앙값은 맨 중앙의 값 2개의 평균\n",
    "* 사분위수 : `np.precoentile(arr, 백분위수)`"
   ]
  },
  {
   "cell_type": "markdown",
   "id": "34d18f85",
   "metadata": {},
   "source": [
    "## 난수 발생과 카운트\n",
    "* 시드 설정 : (난수 설정을 할 때)일치된 결과를 얻고 싶다면 (과제나 학습에서) `np.random,seed` 시작하는 난수의 코드를 입력해주면 해당 코드를 기반으로 나숫가 설정되기 때문에 예측가능(ML random_state)\n",
    "* `np.random.rand`: 0과 1사이\n",
    "    * np.random.rand(갯수)\n",
    "* `np.random.shuffle`: 특정 배열의 내부 원소 순서를 섞어줌\n",
    "* `np.random,choice(arr, size, replace, p)`\n",
    "    * size : 정수 값, shape\n",
    "    * replace : T/F -> 복원/비복원 추출(중복/비중복)\n",
    "    * p : arr의 크기만틈 배열 -> 특정 항목에 확률 가중치를 얼마나 둘 것이냐?\n",
    "*`np.random,randn`: 평균(기댓값)이 0이고 표준편차가 1인 표준 정규분포를 따르는 난수 생성 -> 통계적으로 자주 쓰이는 난수 분포를 만들어 주겠다.\n",
    "*`np.random.randint` : 임의의 범위의 숫자들을 리턴 ** 자주 사용**\n",
    "    * low, high, size\n",
    "    * low : 0~low(제외)\n",
    "    * low, high : low~high(제외)\n",
    "    * size → size 갯수, shape면 해당 모양으로\n",
    "* `np.unique`\n",
    "    * np.unique(arr) : arr의 중복되지 않은 고유값 행렬\n",
    "    * np.unique(arr, return_counts=True) : 고유값 + 갯수"
   ]
  },
  {
   "cell_type": "code",
   "execution_count": null,
   "id": "921922fd",
   "metadata": {},
   "outputs": [],
   "source": []
  }
 ],
 "metadata": {
  "kernelspec": {
   "display_name": "Python 3 (ipykernel)",
   "language": "python",
   "name": "python3"
  },
  "language_info": {
   "codemirror_mode": {
    "name": "ipython",
    "version": 3
   },
   "file_extension": ".py",
   "mimetype": "text/x-python",
   "name": "python",
   "nbconvert_exporter": "python",
   "pygments_lexer": "ipython3",
   "version": "3.9.13"
  }
 },
 "nbformat": 4,
 "nbformat_minor": 5
}
